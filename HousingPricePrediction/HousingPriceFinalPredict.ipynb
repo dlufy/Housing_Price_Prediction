{
 "cells": [
  {
   "cell_type": "code",
   "execution_count": 56,
   "metadata": {},
   "outputs": [],
   "source": [
    "import numpy as np\n",
    "import pandas as pd\n",
    "import datetime\n",
    "from sklearn.cross_validation import KFold\n",
    "from sklearn.model_selection import train_test_split\n",
    "import time\n",
    "from sklearn import preprocessing\n",
    "from xgboost import XGBRegressor\n",
    "from sklearn.ensemble import RandomForestRegressor, ExtraTreesRegressor, GradientBoostingRegressor\n",
    "from sklearn.grid_search import GridSearchCV\n",
    "from sklearn.model_selection import ShuffleSplit\n",
    "from sklearn.metrics import make_scorer, mean_squared_error\n",
    "from sklearn.linear_model import Ridge, LassoCV,LassoLarsCV, ElasticNet\n",
    "from sklearn.kernel_ridge import KernelRidge\n",
    "from sklearn.neighbors import KNeighborsRegressor\n",
    "from sklearn.svm import SVR\n",
    "from scipy.stats import skew\n",
    "from sklearn.metrics import mean_absolute_error as mae"
   ]
  },
  {
   "cell_type": "code",
   "execution_count": 57,
   "metadata": {
    "collapsed": true
   },
   "outputs": [],
   "source": [
    "def DataPreprocess(train,test):\n",
    "    #concating train and test data to make suitable for fiiting model and predicting\n",
    "    ConcatedData = pd.concat((train.loc[:,'MSSubClass':'SaleCondition'],test.loc[:,'MSSubClass':'SaleCondition']))\n",
    "    ConcatedData.head()\n",
    "    #these values are have a very few detial available we should drop these columns\n",
    "    toDel = ['Alley','FireplaceQu','PoolQC','Fence','MiscFeature']\n",
    "    ConcatedData = ConcatedData.drop(toDel,axis=1)\n",
    "    ##Taking log of values to make them scaleable\n",
    "    train[\"SalePrice\"] = np.log1p(train[\"SalePrice\"])\n",
    "    #finding numeric only columns\n",
    "    numeric_feats = ConcatedData.dtypes[ConcatedData.dtypes != \"object\"].index\n",
    "    #computing skewness\n",
    "    skewed_feats = train[numeric_feats].apply(lambda x: skew(x.dropna()))\n",
    "    skewed_feats = skewed_feats[skewed_feats > 0.75]\n",
    "    skewed_feats = skewed_feats.index\n",
    "    #taking log to make data scaleable\n",
    "    ConcatedData[skewed_feats] = np.log1p(ConcatedData[skewed_feats])\n",
    "    #one hot key encoding\n",
    "    ConcatedData = pd.get_dummies(ConcatedData)\n",
    "    #filling NaN values with mean of the column\n",
    "    ConcatedData = ConcatedData.fillna(ConcatedData.mean())\n",
    "    #half concated data is train and lower half is for test\n",
    "    X_train = ConcatedData[:train.shape[0]]\n",
    "    X_test = ConcatedData[train.shape[0]:]\n",
    "    y = train.SalePrice\n",
    "\n",
    "    return X_train,X_test,y"
   ]
  },
  {
   "cell_type": "code",
   "execution_count": 55,
   "metadata": {
    "collapsed": true
   },
   "outputs": [],
   "source": [
    "def mean_squared_error_(ground_truth, predictions):\n",
    "    return mean_squared_error(ground_truth, predictions) ** 0.5\n",
    "RMSE = make_scorer(mean_squared_error_, greater_is_better=False)"
   ]
  },
  {
   "cell_type": "code",
   "execution_count": 70,
   "metadata": {},
   "outputs": [],
   "source": [
    "class ensemble(object):\n",
    "    def __init__(self, n_folds, stacker, base_models):\n",
    "        self.n_folds = n_folds\n",
    "        self.stacker = stacker\n",
    "        self.base_models = base_models\n",
    "    def fit_predict(self,train,test,ytrain):\n",
    "        X = train.values\n",
    "        y = ytrain.values\n",
    "        T = test.values\n",
    "        folds = list(KFold(len(y), n_folds = self.n_folds, shuffle = True, random_state = 0))\n",
    "        S_train = np.zeros((X.shape[0],len(self.base_models)))#(number of rows in X) x (number of models) \n",
    "        S_test = np.zeros((T.shape[0],len(self.base_models))) # X need to be T when do test prediction\n",
    "        for i,reg in enumerate(base_models):\n",
    "            print (\"Fitting the base model...\")\n",
    "            S_test_i = np.zeros((T.shape[0],len(folds))) # X need to be T when do test prediction\n",
    "            #creating folds\n",
    "            for j, (train_idx,test_idx) in enumerate(folds):\n",
    "                X_train = X[train_idx]\n",
    "                y_train = y[train_idx]\n",
    "                X_holdout = X[test_idx]\n",
    "                #fitting and predicting specific model\n",
    "                reg.fit(X_train,y_train)\n",
    "                y_pred = reg.predict(X_holdout)[:]\n",
    "                S_train[test_idx,i] = y_pred\n",
    "                S_test_i[:,j] = reg.predict(T)[:]\n",
    "            #    S_test_i[:,j] = reg.predict(X)[:]\n",
    "            S_test[:,i] = S_test_i.mean(1)\n",
    "        \n",
    "        print (\"Stacking base models...\")\n",
    "        param_grid = {'alpha': [1e-3,5e-3,1e-2,5e-2,1e-1,0.2,0.3,0.4,0.5,0.8,1e0,3,5,7,1e1,2e1,5e1],}\n",
    "        grid = GridSearchCV(estimator=self.stacker, param_grid=param_grid, n_jobs=1, cv=5, scoring=RMSE)\n",
    "        grid.fit(S_train, y)\n",
    "        try:\n",
    "            print('Param grid:')\n",
    "            print(param_grid)\n",
    "            print('Best Params:')\n",
    "            print(grid.best_params_)\n",
    "            print('Best CV Score:')\n",
    "            print(-grid.best_score_)\n",
    "            print('Best estimator:')\n",
    "            print(grid.best_estimator_)\n",
    "            print(message)\n",
    "        except:\n",
    "            pass\n",
    "            #return best result\n",
    "        y_pred = grid.predict(S_test)[:]\n",
    "        return y_pred, -grid.best_score_\n"
   ]
  },
  {
   "cell_type": "code",
   "execution_count": 63,
   "metadata": {
    "collapsed": true
   },
   "outputs": [],
   "source": [
    "base_models = [\n",
    "        RandomForestRegressor(\n",
    "            n_jobs=1, random_state=0,\n",
    "            n_estimators=500, max_features=18, max_depth=11\n",
    "        ),\n",
    "        ExtraTreesRegressor(\n",
    "            n_jobs=1, random_state=0, \n",
    "            n_estimators=500, max_features=20\n",
    "        ),\n",
    "        GradientBoostingRegressor(\n",
    "            random_state=0, \n",
    "            n_estimators=500, max_features=10, max_depth=6,\n",
    "            learning_rate=0.05, subsample=0.8\n",
    "        ),\n",
    "        XGBRegressor(\n",
    "            seed=0,\n",
    "            n_estimators=500, max_depth=7,\n",
    "            learning_rate=0.05, subsample=0.8, colsample_bytree=0.75\n",
    "        ),\n",
    "    ]"
   ]
  },
  {
   "cell_type": "code",
   "execution_count": 64,
   "metadata": {
    "collapsed": true
   },
   "outputs": [],
   "source": [
    "#load training and testing data\n",
    "train = pd.read_csv(\"./input/train.csv\")\n",
    "test = pd.read_csv(\"./input/test.csv\") "
   ]
  },
  {
   "cell_type": "code",
   "execution_count": 65,
   "metadata": {
    "collapsed": true
   },
   "outputs": [],
   "source": [
    "ensem = ensemble(\n",
    "        n_folds=5,\n",
    "\tstacker=Ridge(),\n",
    "        base_models=base_models\n",
    "    )"
   ]
  },
  {
   "cell_type": "code",
   "execution_count": 67,
   "metadata": {},
   "outputs": [],
   "source": [
    "X_train,X_test,y_train = DataPreprocess(train,test)"
   ]
  },
  {
   "cell_type": "code",
   "execution_count": 68,
   "metadata": {},
   "outputs": [
    {
     "name": "stdout",
     "output_type": "stream",
     "text": [
      "Fitting the base model...\n",
      "Fitting the base model...\n",
      "Fitting the base model...\n",
      "Fitting the base model...\n",
      "Stacking base models...\n",
      "Param grid:\n",
      "{'alpha': [0.001, 0.005, 0.01, 0.05, 0.1, 0.2, 0.3, 0.4, 0.5, 0.8, 1.0, 3, 5, 7, 10.0, 20.0, 50.0]}\n",
      "Best Params:\n",
      "{'alpha': 0.4}\n",
      "Best CV Score:\n",
      "0.1218823315499378\n",
      "Best estimator:\n",
      "Ridge(alpha=0.4, copy_X=True, fit_intercept=True, max_iter=None,\n",
      "   normalize=False, random_state=None, solver='auto', tol=0.001)\n"
     ]
    }
   ],
   "source": [
    "y_pred, score = ensem.fit_predict(X_train,X_test,y_train)"
   ]
  }
 ],
 "metadata": {
  "kernelspec": {
   "display_name": "Python 3",
   "language": "python",
   "name": "python3"
  },
  "language_info": {
   "codemirror_mode": {
    "name": "ipython",
    "version": 3
   },
   "file_extension": ".py",
   "mimetype": "text/x-python",
   "name": "python",
   "nbconvert_exporter": "python",
   "pygments_lexer": "ipython3",
   "version": "3.6.3"
  }
 },
 "nbformat": 4,
 "nbformat_minor": 2
}
